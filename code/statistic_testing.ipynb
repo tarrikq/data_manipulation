{
 "cells": [
  {
   "cell_type": "markdown",
   "metadata": {},
   "source": [
    "## Statistical testing"
   ]
  },
  {
   "cell_type": "markdown",
   "metadata": {},
   "source": [
    "#### Hypothesis testing\n",
    "The core data analysis activity behind experimentation. The goal is the determine if, for instance, to different conditions we have in an experiment have resulted in different impacts."
   ]
  },
  {
   "cell_type": "code",
   "execution_count": 17,
   "metadata": {},
   "outputs": [],
   "source": [
    "##import libraries\n",
    "import numpy as np\n",
    "import pandas as pd\n",
    "##scipy is a collection of libraries used for data science. It includes numpy and pandas, but also plotting libraries\n",
    "##such as motplotlib\n",
    "from scipy import stats"
   ]
  },
  {
   "cell_type": "code",
   "execution_count": 18,
   "metadata": {},
   "outputs": [
    {
     "data": {
      "text/html": [
       "<div>\n",
       "<style scoped>\n",
       "    .dataframe tbody tr th:only-of-type {\n",
       "        vertical-align: middle;\n",
       "    }\n",
       "\n",
       "    .dataframe tbody tr th {\n",
       "        vertical-align: top;\n",
       "    }\n",
       "\n",
       "    .dataframe thead th {\n",
       "        text-align: right;\n",
       "    }\n",
       "</style>\n",
       "<table border=\"1\" class=\"dataframe\">\n",
       "  <thead>\n",
       "    <tr style=\"text-align: right;\">\n",
       "      <th></th>\n",
       "      <th>student_id</th>\n",
       "      <th>assignment1_grade</th>\n",
       "      <th>assignment1_submission</th>\n",
       "      <th>assignment2_grade</th>\n",
       "      <th>assignment2_submission</th>\n",
       "      <th>assignment3_grade</th>\n",
       "      <th>assignment3_submission</th>\n",
       "      <th>assignment4_grade</th>\n",
       "      <th>assignment4_submission</th>\n",
       "      <th>assignment5_grade</th>\n",
       "      <th>assignment5_submission</th>\n",
       "      <th>assignment6_grade</th>\n",
       "      <th>assignment6_submission</th>\n",
       "    </tr>\n",
       "  </thead>\n",
       "  <tbody>\n",
       "    <tr>\n",
       "      <th>0</th>\n",
       "      <td>B73F2C11-70F0-E37D-8B10-1D20AFED50B1</td>\n",
       "      <td>92.733946</td>\n",
       "      <td>2015-11-02 06:55:34.282000000</td>\n",
       "      <td>83.030552</td>\n",
       "      <td>2015-11-09 02:22:58.938000000</td>\n",
       "      <td>67.164441</td>\n",
       "      <td>2015-11-12 08:58:33.998000000</td>\n",
       "      <td>53.011553</td>\n",
       "      <td>2015-11-16 01:21:24.663000000</td>\n",
       "      <td>47.710398</td>\n",
       "      <td>2015-11-20 13:24:59.692000000</td>\n",
       "      <td>38.168318</td>\n",
       "      <td>2015-11-22 18:31:15.934000000</td>\n",
       "    </tr>\n",
       "    <tr>\n",
       "      <th>1</th>\n",
       "      <td>98A0FAE0-A19A-13D2-4BB5-CFBFD94031D1</td>\n",
       "      <td>86.790821</td>\n",
       "      <td>2015-11-29 14:57:44.429000000</td>\n",
       "      <td>86.290821</td>\n",
       "      <td>2015-12-06 17:41:18.449000000</td>\n",
       "      <td>69.772657</td>\n",
       "      <td>2015-12-10 08:54:55.904000000</td>\n",
       "      <td>55.098125</td>\n",
       "      <td>2015-12-13 17:32:30.941000000</td>\n",
       "      <td>49.588313</td>\n",
       "      <td>2015-12-19 23:26:39.285000000</td>\n",
       "      <td>44.629482</td>\n",
       "      <td>2015-12-21 17:07:24.275000000</td>\n",
       "    </tr>\n",
       "    <tr>\n",
       "      <th>2</th>\n",
       "      <td>D0F62040-CEB0-904C-F563-2F8620916C4E</td>\n",
       "      <td>85.512541</td>\n",
       "      <td>2016-01-09 05:36:02.389000000</td>\n",
       "      <td>85.512541</td>\n",
       "      <td>2016-01-09 06:39:44.416000000</td>\n",
       "      <td>68.410033</td>\n",
       "      <td>2016-01-15 20:22:45.882000000</td>\n",
       "      <td>54.728026</td>\n",
       "      <td>2016-01-11 12:41:50.749000000</td>\n",
       "      <td>49.255224</td>\n",
       "      <td>2016-01-11 17:31:12.489000000</td>\n",
       "      <td>44.329701</td>\n",
       "      <td>2016-01-17 16:24:42.765000000</td>\n",
       "    </tr>\n",
       "    <tr>\n",
       "      <th>3</th>\n",
       "      <td>FFDF2B2C-F514-EF7F-6538-A6A53518E9DC</td>\n",
       "      <td>86.030665</td>\n",
       "      <td>2016-04-30 06:50:39.801000000</td>\n",
       "      <td>68.824532</td>\n",
       "      <td>2016-04-30 17:20:38.727000000</td>\n",
       "      <td>61.942079</td>\n",
       "      <td>2016-05-12 07:47:16.326000000</td>\n",
       "      <td>49.553663</td>\n",
       "      <td>2016-05-07 16:09:20.485000000</td>\n",
       "      <td>49.553663</td>\n",
       "      <td>2016-05-24 12:51:18.016000000</td>\n",
       "      <td>44.598297</td>\n",
       "      <td>2016-05-26 08:09:12.058000000</td>\n",
       "    </tr>\n",
       "    <tr>\n",
       "      <th>4</th>\n",
       "      <td>5ECBEEB6-F1CE-80AE-3164-E45E99473FB4</td>\n",
       "      <td>64.813800</td>\n",
       "      <td>2015-12-13 17:06:10.750000000</td>\n",
       "      <td>51.491040</td>\n",
       "      <td>2015-12-14 12:25:12.056000000</td>\n",
       "      <td>41.932832</td>\n",
       "      <td>2015-12-29 14:25:22.594000000</td>\n",
       "      <td>36.929549</td>\n",
       "      <td>2015-12-28 01:29:55.901000000</td>\n",
       "      <td>33.236594</td>\n",
       "      <td>2015-12-29 14:46:06.628000000</td>\n",
       "      <td>33.236594</td>\n",
       "      <td>2016-01-05 01:06:59.546000000</td>\n",
       "    </tr>\n",
       "  </tbody>\n",
       "</table>\n",
       "</div>"
      ],
      "text/plain": [
       "                             student_id  assignment1_grade  \\\n",
       "0  B73F2C11-70F0-E37D-8B10-1D20AFED50B1          92.733946   \n",
       "1  98A0FAE0-A19A-13D2-4BB5-CFBFD94031D1          86.790821   \n",
       "2  D0F62040-CEB0-904C-F563-2F8620916C4E          85.512541   \n",
       "3  FFDF2B2C-F514-EF7F-6538-A6A53518E9DC          86.030665   \n",
       "4  5ECBEEB6-F1CE-80AE-3164-E45E99473FB4          64.813800   \n",
       "\n",
       "          assignment1_submission  assignment2_grade  \\\n",
       "0  2015-11-02 06:55:34.282000000          83.030552   \n",
       "1  2015-11-29 14:57:44.429000000          86.290821   \n",
       "2  2016-01-09 05:36:02.389000000          85.512541   \n",
       "3  2016-04-30 06:50:39.801000000          68.824532   \n",
       "4  2015-12-13 17:06:10.750000000          51.491040   \n",
       "\n",
       "          assignment2_submission  assignment3_grade  \\\n",
       "0  2015-11-09 02:22:58.938000000          67.164441   \n",
       "1  2015-12-06 17:41:18.449000000          69.772657   \n",
       "2  2016-01-09 06:39:44.416000000          68.410033   \n",
       "3  2016-04-30 17:20:38.727000000          61.942079   \n",
       "4  2015-12-14 12:25:12.056000000          41.932832   \n",
       "\n",
       "          assignment3_submission  assignment4_grade  \\\n",
       "0  2015-11-12 08:58:33.998000000          53.011553   \n",
       "1  2015-12-10 08:54:55.904000000          55.098125   \n",
       "2  2016-01-15 20:22:45.882000000          54.728026   \n",
       "3  2016-05-12 07:47:16.326000000          49.553663   \n",
       "4  2015-12-29 14:25:22.594000000          36.929549   \n",
       "\n",
       "          assignment4_submission  assignment5_grade  \\\n",
       "0  2015-11-16 01:21:24.663000000          47.710398   \n",
       "1  2015-12-13 17:32:30.941000000          49.588313   \n",
       "2  2016-01-11 12:41:50.749000000          49.255224   \n",
       "3  2016-05-07 16:09:20.485000000          49.553663   \n",
       "4  2015-12-28 01:29:55.901000000          33.236594   \n",
       "\n",
       "          assignment5_submission  assignment6_grade  \\\n",
       "0  2015-11-20 13:24:59.692000000          38.168318   \n",
       "1  2015-12-19 23:26:39.285000000          44.629482   \n",
       "2  2016-01-11 17:31:12.489000000          44.329701   \n",
       "3  2016-05-24 12:51:18.016000000          44.598297   \n",
       "4  2015-12-29 14:46:06.628000000          33.236594   \n",
       "\n",
       "          assignment6_submission  \n",
       "0  2015-11-22 18:31:15.934000000  \n",
       "1  2015-12-21 17:07:24.275000000  \n",
       "2  2016-01-17 16:24:42.765000000  \n",
       "3  2016-05-26 08:09:12.058000000  \n",
       "4  2016-01-05 01:06:59.546000000  "
      ]
     },
     "execution_count": 18,
     "metadata": {},
     "output_type": "execute_result"
    }
   ],
   "source": [
    "##when doing hypothesis testing, there are two statements of interest. The first is our actual explanation, which we call the \n",
    "##alternative hypothesis, and the second is that the explanation we have is not sufficient, we call that the null hypothesis.\n",
    "##our actual testing method is to determine whether the null hypothesis is true or not. If there is a difference between groups,\n",
    "##we then reject the null hypothesis and accept our alternative.\n",
    "df = pd.read_csv('resources/week-4/datasets/grades.csv')\n",
    "df.head()"
   ]
  },
  {
   "cell_type": "code",
   "execution_count": 4,
   "metadata": {},
   "outputs": [
    {
     "name": "stdout",
     "output_type": "stream",
     "text": [
      "There are 2315 rows and 13 columns\n"
     ]
    }
   ],
   "source": [
    "##look at some summary statistics for the df\n",
    "print(\"There are {} rows and {} columns\".format(df.shape[0], df.shape[1]))"
   ]
  },
  {
   "cell_type": "code",
   "execution_count": 19,
   "metadata": {},
   "outputs": [
    {
     "data": {
      "text/html": [
       "<div>\n",
       "<style scoped>\n",
       "    .dataframe tbody tr th:only-of-type {\n",
       "        vertical-align: middle;\n",
       "    }\n",
       "\n",
       "    .dataframe tbody tr th {\n",
       "        vertical-align: top;\n",
       "    }\n",
       "\n",
       "    .dataframe thead th {\n",
       "        text-align: right;\n",
       "    }\n",
       "</style>\n",
       "<table border=\"1\" class=\"dataframe\">\n",
       "  <thead>\n",
       "    <tr style=\"text-align: right;\">\n",
       "      <th></th>\n",
       "      <th>student_id</th>\n",
       "      <th>assignment1_grade</th>\n",
       "      <th>assignment1_submission</th>\n",
       "      <th>assignment2_grade</th>\n",
       "      <th>assignment2_submission</th>\n",
       "      <th>assignment3_grade</th>\n",
       "      <th>assignment3_submission</th>\n",
       "      <th>assignment4_grade</th>\n",
       "      <th>assignment4_submission</th>\n",
       "      <th>assignment5_grade</th>\n",
       "      <th>assignment5_submission</th>\n",
       "      <th>assignment6_grade</th>\n",
       "      <th>assignment6_submission</th>\n",
       "    </tr>\n",
       "  </thead>\n",
       "  <tbody>\n",
       "    <tr>\n",
       "      <th>0</th>\n",
       "      <td>B73F2C11-70F0-E37D-8B10-1D20AFED50B1</td>\n",
       "      <td>92.733946</td>\n",
       "      <td>2015-11-02 06:55:34.282000000</td>\n",
       "      <td>83.030552</td>\n",
       "      <td>2015-11-09 02:22:58.938000000</td>\n",
       "      <td>67.164441</td>\n",
       "      <td>2015-11-12 08:58:33.998000000</td>\n",
       "      <td>53.011553</td>\n",
       "      <td>2015-11-16 01:21:24.663000000</td>\n",
       "      <td>47.710398</td>\n",
       "      <td>2015-11-20 13:24:59.692000000</td>\n",
       "      <td>38.168318</td>\n",
       "      <td>2015-11-22 18:31:15.934000000</td>\n",
       "    </tr>\n",
       "    <tr>\n",
       "      <th>1</th>\n",
       "      <td>98A0FAE0-A19A-13D2-4BB5-CFBFD94031D1</td>\n",
       "      <td>86.790821</td>\n",
       "      <td>2015-11-29 14:57:44.429000000</td>\n",
       "      <td>86.290821</td>\n",
       "      <td>2015-12-06 17:41:18.449000000</td>\n",
       "      <td>69.772657</td>\n",
       "      <td>2015-12-10 08:54:55.904000000</td>\n",
       "      <td>55.098125</td>\n",
       "      <td>2015-12-13 17:32:30.941000000</td>\n",
       "      <td>49.588313</td>\n",
       "      <td>2015-12-19 23:26:39.285000000</td>\n",
       "      <td>44.629482</td>\n",
       "      <td>2015-12-21 17:07:24.275000000</td>\n",
       "    </tr>\n",
       "    <tr>\n",
       "      <th>4</th>\n",
       "      <td>5ECBEEB6-F1CE-80AE-3164-E45E99473FB4</td>\n",
       "      <td>64.813800</td>\n",
       "      <td>2015-12-13 17:06:10.750000000</td>\n",
       "      <td>51.491040</td>\n",
       "      <td>2015-12-14 12:25:12.056000000</td>\n",
       "      <td>41.932832</td>\n",
       "      <td>2015-12-29 14:25:22.594000000</td>\n",
       "      <td>36.929549</td>\n",
       "      <td>2015-12-28 01:29:55.901000000</td>\n",
       "      <td>33.236594</td>\n",
       "      <td>2015-12-29 14:46:06.628000000</td>\n",
       "      <td>33.236594</td>\n",
       "      <td>2016-01-05 01:06:59.546000000</td>\n",
       "    </tr>\n",
       "    <tr>\n",
       "      <th>5</th>\n",
       "      <td>D09000A0-827B-C0FF-3433-BF8FF286E15B</td>\n",
       "      <td>71.647278</td>\n",
       "      <td>2015-12-28 04:35:32.836000000</td>\n",
       "      <td>64.052550</td>\n",
       "      <td>2016-01-03 21:05:38.392000000</td>\n",
       "      <td>64.752550</td>\n",
       "      <td>2016-01-07 08:55:43.692000000</td>\n",
       "      <td>57.467295</td>\n",
       "      <td>2016-01-11 00:45:28.706000000</td>\n",
       "      <td>57.467295</td>\n",
       "      <td>2016-01-11 00:54:13.579000000</td>\n",
       "      <td>57.467295</td>\n",
       "      <td>2016-01-20 19:54:46.166000000</td>\n",
       "    </tr>\n",
       "    <tr>\n",
       "      <th>8</th>\n",
       "      <td>C9D51293-BD58-F113-4167-A7C0BAFCB6E5</td>\n",
       "      <td>66.595568</td>\n",
       "      <td>2015-12-25 02:29:28.415000000</td>\n",
       "      <td>52.916454</td>\n",
       "      <td>2015-12-31 01:42:30.046000000</td>\n",
       "      <td>48.344809</td>\n",
       "      <td>2016-01-05 23:34:02.180000000</td>\n",
       "      <td>47.444809</td>\n",
       "      <td>2016-01-02 07:48:42.517000000</td>\n",
       "      <td>37.955847</td>\n",
       "      <td>2016-01-03 21:27:04.266000000</td>\n",
       "      <td>37.955847</td>\n",
       "      <td>2016-01-19 15:24:31.060000000</td>\n",
       "    </tr>\n",
       "  </tbody>\n",
       "</table>\n",
       "</div>"
      ],
      "text/plain": [
       "                             student_id  assignment1_grade  \\\n",
       "0  B73F2C11-70F0-E37D-8B10-1D20AFED50B1          92.733946   \n",
       "1  98A0FAE0-A19A-13D2-4BB5-CFBFD94031D1          86.790821   \n",
       "4  5ECBEEB6-F1CE-80AE-3164-E45E99473FB4          64.813800   \n",
       "5  D09000A0-827B-C0FF-3433-BF8FF286E15B          71.647278   \n",
       "8  C9D51293-BD58-F113-4167-A7C0BAFCB6E5          66.595568   \n",
       "\n",
       "          assignment1_submission  assignment2_grade  \\\n",
       "0  2015-11-02 06:55:34.282000000          83.030552   \n",
       "1  2015-11-29 14:57:44.429000000          86.290821   \n",
       "4  2015-12-13 17:06:10.750000000          51.491040   \n",
       "5  2015-12-28 04:35:32.836000000          64.052550   \n",
       "8  2015-12-25 02:29:28.415000000          52.916454   \n",
       "\n",
       "          assignment2_submission  assignment3_grade  \\\n",
       "0  2015-11-09 02:22:58.938000000          67.164441   \n",
       "1  2015-12-06 17:41:18.449000000          69.772657   \n",
       "4  2015-12-14 12:25:12.056000000          41.932832   \n",
       "5  2016-01-03 21:05:38.392000000          64.752550   \n",
       "8  2015-12-31 01:42:30.046000000          48.344809   \n",
       "\n",
       "          assignment3_submission  assignment4_grade  \\\n",
       "0  2015-11-12 08:58:33.998000000          53.011553   \n",
       "1  2015-12-10 08:54:55.904000000          55.098125   \n",
       "4  2015-12-29 14:25:22.594000000          36.929549   \n",
       "5  2016-01-07 08:55:43.692000000          57.467295   \n",
       "8  2016-01-05 23:34:02.180000000          47.444809   \n",
       "\n",
       "          assignment4_submission  assignment5_grade  \\\n",
       "0  2015-11-16 01:21:24.663000000          47.710398   \n",
       "1  2015-12-13 17:32:30.941000000          49.588313   \n",
       "4  2015-12-28 01:29:55.901000000          33.236594   \n",
       "5  2016-01-11 00:45:28.706000000          57.467295   \n",
       "8  2016-01-02 07:48:42.517000000          37.955847   \n",
       "\n",
       "          assignment5_submission  assignment6_grade  \\\n",
       "0  2015-11-20 13:24:59.692000000          38.168318   \n",
       "1  2015-12-19 23:26:39.285000000          44.629482   \n",
       "4  2015-12-29 14:46:06.628000000          33.236594   \n",
       "5  2016-01-11 00:54:13.579000000          57.467295   \n",
       "8  2016-01-03 21:27:04.266000000          37.955847   \n",
       "\n",
       "          assignment6_submission  \n",
       "0  2015-11-22 18:31:15.934000000  \n",
       "1  2015-12-21 17:07:24.275000000  \n",
       "4  2016-01-05 01:06:59.546000000  \n",
       "5  2016-01-20 19:54:46.166000000  \n",
       "8  2016-01-19 15:24:31.060000000  "
      ]
     },
     "execution_count": 19,
     "metadata": {},
     "output_type": "execute_result"
    }
   ],
   "source": [
    "##as an example, lets segment this population into two pieces. Those who finish the first assignment bt the end of Dec 2015,\n",
    "## we call early finishers, and those who finish it sometime after that, call late finishers\n",
    "\n",
    "early_finishers = df[pd.to_datetime(df['assignment1_submission']) < '2016']\n",
    "early_finishers.head()"
   ]
  },
  {
   "cell_type": "code",
   "execution_count": 20,
   "metadata": {
    "scrolled": true
   },
   "outputs": [
    {
     "data": {
      "text/html": [
       "<div>\n",
       "<style scoped>\n",
       "    .dataframe tbody tr th:only-of-type {\n",
       "        vertical-align: middle;\n",
       "    }\n",
       "\n",
       "    .dataframe tbody tr th {\n",
       "        vertical-align: top;\n",
       "    }\n",
       "\n",
       "    .dataframe thead th {\n",
       "        text-align: right;\n",
       "    }\n",
       "</style>\n",
       "<table border=\"1\" class=\"dataframe\">\n",
       "  <thead>\n",
       "    <tr style=\"text-align: right;\">\n",
       "      <th></th>\n",
       "      <th>student_id</th>\n",
       "      <th>assignment1_grade</th>\n",
       "      <th>assignment1_submission</th>\n",
       "      <th>assignment2_grade</th>\n",
       "      <th>assignment2_submission</th>\n",
       "      <th>assignment3_grade</th>\n",
       "      <th>assignment3_submission</th>\n",
       "      <th>assignment4_grade</th>\n",
       "      <th>assignment4_submission</th>\n",
       "      <th>assignment5_grade</th>\n",
       "      <th>assignment5_submission</th>\n",
       "      <th>assignment6_grade</th>\n",
       "      <th>assignment6_submission</th>\n",
       "    </tr>\n",
       "  </thead>\n",
       "  <tbody>\n",
       "    <tr>\n",
       "      <th>2</th>\n",
       "      <td>D0F62040-CEB0-904C-F563-2F8620916C4E</td>\n",
       "      <td>85.512541</td>\n",
       "      <td>2016-01-09 05:36:02.389000000</td>\n",
       "      <td>85.512541</td>\n",
       "      <td>2016-01-09 06:39:44.416000000</td>\n",
       "      <td>68.410033</td>\n",
       "      <td>2016-01-15 20:22:45.882000000</td>\n",
       "      <td>54.728026</td>\n",
       "      <td>2016-01-11 12:41:50.749000000</td>\n",
       "      <td>49.255224</td>\n",
       "      <td>2016-01-11 17:31:12.489000000</td>\n",
       "      <td>44.329701</td>\n",
       "      <td>2016-01-17 16:24:42.765000000</td>\n",
       "    </tr>\n",
       "    <tr>\n",
       "      <th>3</th>\n",
       "      <td>FFDF2B2C-F514-EF7F-6538-A6A53518E9DC</td>\n",
       "      <td>86.030665</td>\n",
       "      <td>2016-04-30 06:50:39.801000000</td>\n",
       "      <td>68.824532</td>\n",
       "      <td>2016-04-30 17:20:38.727000000</td>\n",
       "      <td>61.942079</td>\n",
       "      <td>2016-05-12 07:47:16.326000000</td>\n",
       "      <td>49.553663</td>\n",
       "      <td>2016-05-07 16:09:20.485000000</td>\n",
       "      <td>49.553663</td>\n",
       "      <td>2016-05-24 12:51:18.016000000</td>\n",
       "      <td>44.598297</td>\n",
       "      <td>2016-05-26 08:09:12.058000000</td>\n",
       "    </tr>\n",
       "    <tr>\n",
       "      <th>6</th>\n",
       "      <td>3217BE3F-E4B0-C3B6-9F64-462456819CE4</td>\n",
       "      <td>87.498744</td>\n",
       "      <td>2016-03-05 11:05:25.408000000</td>\n",
       "      <td>69.998995</td>\n",
       "      <td>2016-03-09 07:29:52.405000000</td>\n",
       "      <td>55.999196</td>\n",
       "      <td>2016-03-16 22:31:24.316000000</td>\n",
       "      <td>50.399276</td>\n",
       "      <td>2016-03-18 07:19:26.032000000</td>\n",
       "      <td>45.359349</td>\n",
       "      <td>2016-03-19 10:35:41.869000000</td>\n",
       "      <td>45.359349</td>\n",
       "      <td>2016-03-23 14:02:00.987000000</td>\n",
       "    </tr>\n",
       "    <tr>\n",
       "      <th>7</th>\n",
       "      <td>F1CB5AA1-B3DE-5460-FAFF-BE951FD38B5F</td>\n",
       "      <td>80.576090</td>\n",
       "      <td>2016-01-24 18:24:25.619000000</td>\n",
       "      <td>72.518481</td>\n",
       "      <td>2016-01-27 13:37:12.943000000</td>\n",
       "      <td>65.266633</td>\n",
       "      <td>2016-01-30 14:34:36.581000000</td>\n",
       "      <td>65.266633</td>\n",
       "      <td>2016-02-03 22:08:49.002000000</td>\n",
       "      <td>65.266633</td>\n",
       "      <td>2016-02-16 14:22:23.664000000</td>\n",
       "      <td>65.266633</td>\n",
       "      <td>2016-02-18 08:35:04.796000000</td>\n",
       "    </tr>\n",
       "    <tr>\n",
       "      <th>9</th>\n",
       "      <td>E2C617C2-4654-622C-AB50-1550C4BE42A0</td>\n",
       "      <td>59.270882</td>\n",
       "      <td>2016-03-06 12:06:26.185000000</td>\n",
       "      <td>59.270882</td>\n",
       "      <td>2016-03-13 02:07:25.289000000</td>\n",
       "      <td>53.343794</td>\n",
       "      <td>2016-03-17 07:30:09.241000000</td>\n",
       "      <td>53.343794</td>\n",
       "      <td>2016-03-20 21:45:56.229000000</td>\n",
       "      <td>42.675035</td>\n",
       "      <td>2016-03-27 15:55:04.414000000</td>\n",
       "      <td>38.407532</td>\n",
       "      <td>2016-03-30 20:33:13.554000000</td>\n",
       "    </tr>\n",
       "  </tbody>\n",
       "</table>\n",
       "</div>"
      ],
      "text/plain": [
       "                             student_id  assignment1_grade  \\\n",
       "2  D0F62040-CEB0-904C-F563-2F8620916C4E          85.512541   \n",
       "3  FFDF2B2C-F514-EF7F-6538-A6A53518E9DC          86.030665   \n",
       "6  3217BE3F-E4B0-C3B6-9F64-462456819CE4          87.498744   \n",
       "7  F1CB5AA1-B3DE-5460-FAFF-BE951FD38B5F          80.576090   \n",
       "9  E2C617C2-4654-622C-AB50-1550C4BE42A0          59.270882   \n",
       "\n",
       "          assignment1_submission  assignment2_grade  \\\n",
       "2  2016-01-09 05:36:02.389000000          85.512541   \n",
       "3  2016-04-30 06:50:39.801000000          68.824532   \n",
       "6  2016-03-05 11:05:25.408000000          69.998995   \n",
       "7  2016-01-24 18:24:25.619000000          72.518481   \n",
       "9  2016-03-06 12:06:26.185000000          59.270882   \n",
       "\n",
       "          assignment2_submission  assignment3_grade  \\\n",
       "2  2016-01-09 06:39:44.416000000          68.410033   \n",
       "3  2016-04-30 17:20:38.727000000          61.942079   \n",
       "6  2016-03-09 07:29:52.405000000          55.999196   \n",
       "7  2016-01-27 13:37:12.943000000          65.266633   \n",
       "9  2016-03-13 02:07:25.289000000          53.343794   \n",
       "\n",
       "          assignment3_submission  assignment4_grade  \\\n",
       "2  2016-01-15 20:22:45.882000000          54.728026   \n",
       "3  2016-05-12 07:47:16.326000000          49.553663   \n",
       "6  2016-03-16 22:31:24.316000000          50.399276   \n",
       "7  2016-01-30 14:34:36.581000000          65.266633   \n",
       "9  2016-03-17 07:30:09.241000000          53.343794   \n",
       "\n",
       "          assignment4_submission  assignment5_grade  \\\n",
       "2  2016-01-11 12:41:50.749000000          49.255224   \n",
       "3  2016-05-07 16:09:20.485000000          49.553663   \n",
       "6  2016-03-18 07:19:26.032000000          45.359349   \n",
       "7  2016-02-03 22:08:49.002000000          65.266633   \n",
       "9  2016-03-20 21:45:56.229000000          42.675035   \n",
       "\n",
       "          assignment5_submission  assignment6_grade  \\\n",
       "2  2016-01-11 17:31:12.489000000          44.329701   \n",
       "3  2016-05-24 12:51:18.016000000          44.598297   \n",
       "6  2016-03-19 10:35:41.869000000          45.359349   \n",
       "7  2016-02-16 14:22:23.664000000          65.266633   \n",
       "9  2016-03-27 15:55:04.414000000          38.407532   \n",
       "\n",
       "          assignment6_submission  \n",
       "2  2016-01-17 16:24:42.765000000  \n",
       "3  2016-05-26 08:09:12.058000000  \n",
       "6  2016-03-23 14:02:00.987000000  \n",
       "7  2016-02-18 08:35:04.796000000  \n",
       "9  2016-03-30 20:33:13.554000000  "
      ]
     },
     "execution_count": 20,
     "metadata": {},
     "output_type": "execute_result"
    }
   ],
   "source": [
    "late_finishers = df[pd.to_datetime(df['assignment1_submission']) >= '2016']\n",
    "\n",
    "late_finishers.head()"
   ]
  },
  {
   "cell_type": "code",
   "execution_count": 8,
   "metadata": {},
   "outputs": [
    {
     "name": "stdout",
     "output_type": "stream",
     "text": [
      "74.94728457024303\n",
      "74.0450648477065\n"
     ]
    }
   ],
   "source": [
    "##calculate the means for the two populations\n",
    "print(early_finishers['assignment1_grade'].mean())\n",
    "print(late_finishers['assignment1_grade'].mean())"
   ]
  },
  {
   "cell_type": "code",
   "execution_count": 10,
   "metadata": {},
   "outputs": [
    {
     "data": {
      "text/plain": [
       "Ttest_indResult(statistic=1.322354085372139, pvalue=0.1861810110171455)"
      ]
     },
     "execution_count": 10,
     "metadata": {},
     "output_type": "execute_result"
    }
   ],
   "source": [
    "##Since they look similiar, we can form an alternative hypothesis using the studnet t-test, as well as the null hypothesis.\n",
    "##to hypothesis test, we must choose a significance level (alpha), we can use 0.05 (5%) which is a commonly used value\n",
    "##we will use the ttest_ind() function which does an independent t-test. The results of the ttest_ind() are the t-statistic and\n",
    "##a p-value. the p-value (the probability) is most important to use as it indicates the chance of our null hypo being true\n",
    "\n",
    "from scipy.stats import ttest_ind\n",
    "\n",
    "ttest_ind(early_finishers['assignment1_grade'], late_finishers['assignment1_grade'])"
   ]
  },
  {
   "cell_type": "code",
   "execution_count": 13,
   "metadata": {},
   "outputs": [
    {
     "name": "stdout",
     "output_type": "stream",
     "text": [
      "Ttest_indResult(statistic=1.2514717608216366, pvalue=0.2108889627004424)\n",
      "Ttest_indResult(statistic=1.6133726558705392, pvalue=0.10679998102227865)\n",
      "Ttest_indResult(statistic=0.049671157386456125, pvalue=0.960388729789337)\n",
      "Ttest_indResult(statistic=-0.05279315545404755, pvalue=0.9579012739746492)\n",
      "Ttest_indResult(statistic=-0.11609743352612056, pvalue=0.9075854011989656)\n"
     ]
    }
   ],
   "source": [
    "##we can see that the p value is 0.18, which is above our alpha of 0.05. This means that the null hpyo cannot be rejected.\n",
    "## the null hypo was that the two populations are the same, and we dont have enough certaininty to come to a conclusion\n",
    "\n",
    "print(ttest_ind(early_finishers['assignment2_grade'], late_finishers['assignment2_grade']))\n",
    "print(ttest_ind(early_finishers['assignment3_grade'], late_finishers['assignment3_grade']))\n",
    "print(ttest_ind(early_finishers['assignment4_grade'], late_finishers['assignment4_grade']))\n",
    "print(ttest_ind(early_finishers['assignment5_grade'], late_finishers['assignment5_grade']))\n",
    "print(ttest_ind(early_finishers['assignment6_grade'], late_finishers['assignment6_grade']))"
   ]
  },
  {
   "cell_type": "code",
   "execution_count": 18,
   "metadata": {
    "scrolled": true
   },
   "outputs": [],
   "source": [
    "##we can see that the p-value is never under our threshold. The issue with the p value is that you can continue to run tests\n",
    "## and become more likely to reach an acceptable p-value by chance.\n",
    "import pandas as pd\n",
    "##lets make a simulation of this\n",
    "df1 = pd.DataFrame([np.random.random(100) for x in range(100)])\n",
    "df2 = pd.DataFrame(np.random.random(100) for x in range(100))\n"
   ]
  },
  {
   "cell_type": "code",
   "execution_count": 22,
   "metadata": {},
   "outputs": [
    {
     "name": "stdout",
     "output_type": "stream",
     "text": [
      "Total number different was 0, which is 0.0%\n",
      "Total number different was 0, which is 0.0%\n",
      "Total number different was 0, which is 0.0%\n",
      "Total number different was 0, which is 0.0%\n",
      "Total number different was 0, which is 0.0%\n",
      "Total number different was 0, which is 0.0%\n",
      "Total number different was 0, which is 0.0%\n",
      "Total number different was 0, which is 0.0%\n",
      "Total number different was 0, which is 0.0%\n",
      "Total number different was 0, which is 0.0%\n",
      "Total number different was 0, which is 0.0%\n",
      "Total number different was 0, which is 0.0%\n",
      "Total number different was 0, which is 0.0%\n",
      "Total number different was 0, which is 0.0%\n",
      "Total number different was 0, which is 0.0%\n",
      "Total number different was 0, which is 0.0%\n",
      "Total number different was 0, which is 0.0%\n",
      "Total number different was 0, which is 0.0%\n",
      "Total number different was 0, which is 0.0%\n",
      "Total number different was 0, which is 0.0%\n",
      "Total number different was 0, which is 0.0%\n",
      "Total number different was 0, which is 0.0%\n",
      "Total number different was 0, which is 0.0%\n",
      "Total number different was 0, which is 0.0%\n",
      "Total number different was 0, which is 0.0%\n",
      "Total number different was 0, which is 0.0%\n",
      "Total number different was 0, which is 0.0%\n",
      "Total number different was 0, which is 0.0%\n",
      "Total number different was 0, which is 0.0%\n",
      "Total number different was 0, which is 0.0%\n",
      "Total number different was 0, which is 0.0%\n",
      "Total number different was 0, which is 0.0%\n",
      "Total number different was 0, which is 0.0%\n",
      "Total number different was 0, which is 0.0%\n",
      "Total number different was 0, which is 0.0%\n",
      "Total number different was 0, which is 0.0%\n",
      "Total number different was 0, which is 0.0%\n",
      "Total number different was 0, which is 0.0%\n",
      "Total number different was 0, which is 0.0%\n",
      "Total number different was 0, which is 0.0%\n",
      "Total number different was 0, which is 0.0%\n",
      "Total number different was 0, which is 0.0%\n",
      "Total number different was 0, which is 0.0%\n",
      "Total number different was 0, which is 0.0%\n",
      "Total number different was 0, which is 0.0%\n",
      "Total number different was 0, which is 0.0%\n",
      "Total number different was 0, which is 0.0%\n",
      "Total number different was 0, which is 0.0%\n",
      "Total number different was 0, which is 0.0%\n",
      "Total number different was 0, which is 0.0%\n",
      "Total number different was 0, which is 0.0%\n",
      "Total number different was 0, which is 0.0%\n",
      "Total number different was 0, which is 0.0%\n",
      "Total number different was 0, which is 0.0%\n",
      "Col 54 is statistically significantly differnet at alpha=0.05, pval=0.01567352803695577\n",
      "Total number different was 1, which is 1.0%\n",
      "Total number different was 1, which is 1.0%\n",
      "Total number different was 1, which is 1.0%\n",
      "Total number different was 1, which is 1.0%\n",
      "Total number different was 1, which is 1.0%\n",
      "Total number different was 1, which is 1.0%\n",
      "Total number different was 1, which is 1.0%\n",
      "Total number different was 1, which is 1.0%\n",
      "Total number different was 1, which is 1.0%\n",
      "Total number different was 1, which is 1.0%\n",
      "Total number different was 1, which is 1.0%\n",
      "Total number different was 1, which is 1.0%\n",
      "Total number different was 1, which is 1.0%\n",
      "Total number different was 1, which is 1.0%\n",
      "Total number different was 1, which is 1.0%\n",
      "Total number different was 1, which is 1.0%\n",
      "Total number different was 1, which is 1.0%\n",
      "Col 71 is statistically significantly differnet at alpha=0.05, pval=0.003104945298655965\n",
      "Total number different was 2, which is 2.0%\n",
      "Total number different was 2, which is 2.0%\n",
      "Total number different was 2, which is 2.0%\n",
      "Total number different was 2, which is 2.0%\n",
      "Total number different was 2, which is 2.0%\n",
      "Total number different was 2, which is 2.0%\n",
      "Col 77 is statistically significantly differnet at alpha=0.05, pval=0.025751320017768017\n",
      "Total number different was 3, which is 3.0%\n",
      "Total number different was 3, which is 3.0%\n",
      "Total number different was 3, which is 3.0%\n",
      "Total number different was 3, which is 3.0%\n",
      "Total number different was 3, which is 3.0%\n",
      "Total number different was 3, which is 3.0%\n",
      "Total number different was 3, which is 3.0%\n",
      "Total number different was 3, which is 3.0%\n",
      "Total number different was 3, which is 3.0%\n",
      "Total number different was 3, which is 3.0%\n",
      "Total number different was 3, which is 3.0%\n",
      "Total number different was 3, which is 3.0%\n",
      "Total number different was 3, which is 3.0%\n",
      "Total number different was 3, which is 3.0%\n",
      "Total number different was 3, which is 3.0%\n",
      "Total number different was 3, which is 3.0%\n",
      "Total number different was 3, which is 3.0%\n",
      "Col 94 is statistically significantly differnet at alpha=0.05, pval=0.001381202708184714\n",
      "Total number different was 4, which is 4.0%\n",
      "Total number different was 4, which is 4.0%\n",
      "Total number different was 4, which is 4.0%\n",
      "Total number different was 4, which is 4.0%\n",
      "Total number different was 4, which is 4.0%\n",
      "Total number different was 4, which is 4.0%\n"
     ]
    }
   ],
   "source": [
    "##lets say our alpha value is 0.1, and compare each value in column in df1 to df2\n",
    "def test_columns(alpha=0.1):\n",
    "    num_diff=0\n",
    "    for col in df1.columns:\n",
    "        teststat, pval=ttest_ind(df1[col],df2[col])\n",
    "        \n",
    "        if pval <= alpha:\n",
    "            print(\"Col {} is statistically significantly differnet at alpha={}, pval={}\".format(col, alpha, pval))\n",
    "            num_diff=num_diff+1\n",
    "        print(\"Total number different was {}, which is {}%\".format(num_diff, float(num_diff)/len(df1.columns)*100))\n",
    "\n",
    "test_columns(0.05)"
   ]
  },
  {
   "cell_type": "code",
   "execution_count": 23,
   "metadata": {},
   "outputs": [
    {
     "name": "stdout",
     "output_type": "stream",
     "text": [
      "Col 0 is statistically significantly differnet at alpha=0.1, pval=0.0023884171754816074\n",
      "Total number different was 1, which is 1.0%\n",
      "Col 1 is statistically significantly differnet at alpha=0.1, pval=0.007283856943994789\n",
      "Total number different was 2, which is 2.0%\n",
      "Col 2 is statistically significantly differnet at alpha=0.1, pval=0.0007136410952330829\n",
      "Total number different was 3, which is 3.0%\n",
      "Col 3 is statistically significantly differnet at alpha=0.1, pval=0.0005098321056145729\n",
      "Total number different was 4, which is 4.0%\n",
      "Col 4 is statistically significantly differnet at alpha=0.1, pval=0.0012561119111043728\n",
      "Total number different was 5, which is 5.0%\n",
      "Col 5 is statistically significantly differnet at alpha=0.1, pval=0.00025255420233959267\n",
      "Total number different was 6, which is 6.0%\n",
      "Col 6 is statistically significantly differnet at alpha=0.1, pval=0.00035384387395202767\n",
      "Total number different was 7, which is 7.000000000000001%\n",
      "Col 7 is statistically significantly differnet at alpha=0.1, pval=0.037826148824445786\n",
      "Total number different was 8, which is 8.0%\n",
      "Col 8 is statistically significantly differnet at alpha=0.1, pval=1.66821683970042e-05\n",
      "Total number different was 9, which is 9.0%\n",
      "Col 9 is statistically significantly differnet at alpha=0.1, pval=7.558241923574415e-05\n",
      "Total number different was 10, which is 10.0%\n",
      "Col 10 is statistically significantly differnet at alpha=0.1, pval=2.75449401411691e-06\n",
      "Total number different was 11, which is 11.0%\n",
      "Col 11 is statistically significantly differnet at alpha=0.1, pval=0.0020643808750844717\n",
      "Total number different was 12, which is 12.0%\n",
      "Col 12 is statistically significantly differnet at alpha=0.1, pval=0.0020627162618642547\n",
      "Total number different was 13, which is 13.0%\n",
      "Col 13 is statistically significantly differnet at alpha=0.1, pval=0.004630622712716722\n",
      "Total number different was 14, which is 14.000000000000002%\n",
      "Col 14 is statistically significantly differnet at alpha=0.1, pval=0.0004675002246565243\n",
      "Total number different was 15, which is 15.0%\n",
      "Col 15 is statistically significantly differnet at alpha=0.1, pval=0.007951483493442988\n",
      "Total number different was 16, which is 16.0%\n",
      "Col 16 is statistically significantly differnet at alpha=0.1, pval=0.015280724835877349\n",
      "Total number different was 17, which is 17.0%\n",
      "Col 17 is statistically significantly differnet at alpha=0.1, pval=0.0005339227678629926\n",
      "Total number different was 18, which is 18.0%\n",
      "Col 18 is statistically significantly differnet at alpha=0.1, pval=0.002333956098675049\n",
      "Total number different was 19, which is 19.0%\n",
      "Col 19 is statistically significantly differnet at alpha=0.1, pval=6.240993022504461e-05\n",
      "Total number different was 20, which is 20.0%\n",
      "Col 20 is statistically significantly differnet at alpha=0.1, pval=0.00041356597968412784\n",
      "Total number different was 21, which is 21.0%\n",
      "Col 21 is statistically significantly differnet at alpha=0.1, pval=0.002261796440430132\n",
      "Total number different was 22, which is 22.0%\n",
      "Col 22 is statistically significantly differnet at alpha=0.1, pval=0.00404897053273888\n",
      "Total number different was 23, which is 23.0%\n",
      "Col 23 is statistically significantly differnet at alpha=0.1, pval=0.0005116797168290294\n",
      "Total number different was 24, which is 24.0%\n",
      "Col 24 is statistically significantly differnet at alpha=0.1, pval=0.0004526693773463437\n",
      "Total number different was 25, which is 25.0%\n",
      "Col 25 is statistically significantly differnet at alpha=0.1, pval=0.0006997453001367553\n",
      "Total number different was 26, which is 26.0%\n",
      "Col 26 is statistically significantly differnet at alpha=0.1, pval=0.00018741493626861055\n",
      "Total number different was 27, which is 27.0%\n",
      "Col 27 is statistically significantly differnet at alpha=0.1, pval=0.00032079381633279546\n",
      "Total number different was 28, which is 28.000000000000004%\n",
      "Col 28 is statistically significantly differnet at alpha=0.1, pval=0.0032052355393420743\n",
      "Total number different was 29, which is 28.999999999999996%\n",
      "Col 29 is statistically significantly differnet at alpha=0.1, pval=0.00023814406058911373\n",
      "Total number different was 30, which is 30.0%\n",
      "Col 30 is statistically significantly differnet at alpha=0.1, pval=5.7782990510060186e-05\n",
      "Total number different was 31, which is 31.0%\n",
      "Col 31 is statistically significantly differnet at alpha=0.1, pval=0.00027553549295801505\n",
      "Total number different was 32, which is 32.0%\n",
      "Col 32 is statistically significantly differnet at alpha=0.1, pval=0.003928866694170372\n",
      "Total number different was 33, which is 33.0%\n",
      "Col 33 is statistically significantly differnet at alpha=0.1, pval=9.616591067746769e-05\n",
      "Total number different was 34, which is 34.0%\n",
      "Col 34 is statistically significantly differnet at alpha=0.1, pval=0.0013554028300118005\n",
      "Total number different was 35, which is 35.0%\n",
      "Col 35 is statistically significantly differnet at alpha=0.1, pval=0.002890819524405252\n",
      "Total number different was 36, which is 36.0%\n",
      "Col 36 is statistically significantly differnet at alpha=0.1, pval=0.00046281104931981373\n",
      "Total number different was 37, which is 37.0%\n",
      "Col 37 is statistically significantly differnet at alpha=0.1, pval=3.199968658355301e-05\n",
      "Total number different was 38, which is 38.0%\n",
      "Col 38 is statistically significantly differnet at alpha=0.1, pval=0.005564573961155993\n",
      "Total number different was 39, which is 39.0%\n",
      "Col 39 is statistically significantly differnet at alpha=0.1, pval=1.0566093603378797e-05\n",
      "Total number different was 40, which is 40.0%\n",
      "Col 40 is statistically significantly differnet at alpha=0.1, pval=0.01477015000090589\n",
      "Total number different was 41, which is 41.0%\n",
      "Col 41 is statistically significantly differnet at alpha=0.1, pval=5.497530439391147e-07\n",
      "Total number different was 42, which is 42.0%\n",
      "Col 42 is statistically significantly differnet at alpha=0.1, pval=0.00227040817437736\n",
      "Total number different was 43, which is 43.0%\n",
      "Col 43 is statistically significantly differnet at alpha=0.1, pval=0.00014369842464329743\n",
      "Total number different was 44, which is 44.0%\n",
      "Col 44 is statistically significantly differnet at alpha=0.1, pval=8.191124837325718e-05\n",
      "Total number different was 45, which is 45.0%\n",
      "Col 45 is statistically significantly differnet at alpha=0.1, pval=0.001165986528374658\n",
      "Total number different was 46, which is 46.0%\n",
      "Col 46 is statistically significantly differnet at alpha=0.1, pval=0.0013820404436946296\n",
      "Total number different was 47, which is 47.0%\n",
      "Col 47 is statistically significantly differnet at alpha=0.1, pval=0.0001841817958926919\n",
      "Total number different was 48, which is 48.0%\n",
      "Col 48 is statistically significantly differnet at alpha=0.1, pval=0.0001233076150246587\n",
      "Total number different was 49, which is 49.0%\n",
      "Col 49 is statistically significantly differnet at alpha=0.1, pval=0.0013252161924140334\n",
      "Total number different was 50, which is 50.0%\n",
      "Col 50 is statistically significantly differnet at alpha=0.1, pval=0.00014539013904609535\n",
      "Total number different was 51, which is 51.0%\n",
      "Col 51 is statistically significantly differnet at alpha=0.1, pval=0.004138744660334465\n",
      "Total number different was 52, which is 52.0%\n",
      "Col 52 is statistically significantly differnet at alpha=0.1, pval=4.311453348789981e-06\n",
      "Total number different was 53, which is 53.0%\n",
      "Col 53 is statistically significantly differnet at alpha=0.1, pval=2.393903569046755e-06\n",
      "Total number different was 54, which is 54.0%\n",
      "Col 54 is statistically significantly differnet at alpha=0.1, pval=0.0002722367315284214\n",
      "Total number different was 55, which is 55.00000000000001%\n",
      "Col 55 is statistically significantly differnet at alpha=0.1, pval=2.5128278455865557e-05\n",
      "Total number different was 56, which is 56.00000000000001%\n",
      "Col 56 is statistically significantly differnet at alpha=0.1, pval=0.0032824780331761378\n",
      "Total number different was 57, which is 56.99999999999999%\n",
      "Col 57 is statistically significantly differnet at alpha=0.1, pval=0.009174089107125185\n",
      "Total number different was 58, which is 57.99999999999999%\n",
      "Col 58 is statistically significantly differnet at alpha=0.1, pval=1.4443264613654272e-05\n",
      "Total number different was 59, which is 59.0%\n",
      "Col 59 is statistically significantly differnet at alpha=0.1, pval=0.014630917218038225\n",
      "Total number different was 60, which is 60.0%\n",
      "Col 60 is statistically significantly differnet at alpha=0.1, pval=0.00012082367713423042\n",
      "Total number different was 61, which is 61.0%\n",
      "Col 61 is statistically significantly differnet at alpha=0.1, pval=0.0010552562347451017\n",
      "Total number different was 62, which is 62.0%\n",
      "Col 62 is statistically significantly differnet at alpha=0.1, pval=0.0004624109548337473\n",
      "Total number different was 63, which is 63.0%\n",
      "Col 63 is statistically significantly differnet at alpha=0.1, pval=0.0014477248266651088\n",
      "Total number different was 64, which is 64.0%\n",
      "Col 64 is statistically significantly differnet at alpha=0.1, pval=0.00042952378630840035\n",
      "Total number different was 65, which is 65.0%\n",
      "Col 65 is statistically significantly differnet at alpha=0.1, pval=0.002953180938696826\n",
      "Total number different was 66, which is 66.0%\n",
      "Col 66 is statistically significantly differnet at alpha=0.1, pval=0.0014800245092315288\n",
      "Total number different was 67, which is 67.0%\n",
      "Col 67 is statistically significantly differnet at alpha=0.1, pval=1.3425009604750901e-06\n",
      "Total number different was 68, which is 68.0%\n",
      "Col 68 is statistically significantly differnet at alpha=0.1, pval=0.0011162224954988744\n",
      "Total number different was 69, which is 69.0%\n",
      "Col 69 is statistically significantly differnet at alpha=0.1, pval=0.00018100122732646028\n",
      "Total number different was 70, which is 70.0%\n",
      "Col 70 is statistically significantly differnet at alpha=0.1, pval=0.0009562195716354857\n",
      "Total number different was 71, which is 71.0%\n",
      "Col 71 is statistically significantly differnet at alpha=0.1, pval=0.0012599750702754191\n",
      "Total number different was 72, which is 72.0%\n",
      "Col 72 is statistically significantly differnet at alpha=0.1, pval=0.0007480159513041665\n",
      "Total number different was 73, which is 73.0%\n",
      "Col 73 is statistically significantly differnet at alpha=0.1, pval=0.0007962127789550572\n",
      "Total number different was 74, which is 74.0%\n",
      "Col 74 is statistically significantly differnet at alpha=0.1, pval=0.0001965724453917964\n",
      "Total number different was 75, which is 75.0%\n",
      "Col 75 is statistically significantly differnet at alpha=0.1, pval=0.0002938774136376861\n",
      "Total number different was 76, which is 76.0%\n",
      "Col 76 is statistically significantly differnet at alpha=0.1, pval=0.00011283671479239609\n",
      "Total number different was 77, which is 77.0%\n",
      "Col 77 is statistically significantly differnet at alpha=0.1, pval=0.0013695474975842967\n",
      "Total number different was 78, which is 78.0%\n",
      "Col 78 is statistically significantly differnet at alpha=0.1, pval=6.453329262240218e-05\n",
      "Total number different was 79, which is 79.0%\n",
      "Col 79 is statistically significantly differnet at alpha=0.1, pval=0.0003340570228662559\n",
      "Total number different was 80, which is 80.0%\n",
      "Col 80 is statistically significantly differnet at alpha=0.1, pval=0.0005709912996187865\n",
      "Total number different was 81, which is 81.0%\n",
      "Col 81 is statistically significantly differnet at alpha=0.1, pval=0.00020019310750055006\n",
      "Total number different was 82, which is 82.0%\n",
      "Col 82 is statistically significantly differnet at alpha=0.1, pval=0.01049755205607848\n",
      "Total number different was 83, which is 83.0%\n",
      "Col 83 is statistically significantly differnet at alpha=0.1, pval=1.563873336225696e-05\n",
      "Total number different was 84, which is 84.0%\n",
      "Col 84 is statistically significantly differnet at alpha=0.1, pval=2.873175304540358e-05\n",
      "Total number different was 85, which is 85.0%\n",
      "Col 85 is statistically significantly differnet at alpha=0.1, pval=2.0447157205578154e-05\n",
      "Total number different was 86, which is 86.0%\n",
      "Col 86 is statistically significantly differnet at alpha=0.1, pval=0.0003677970376401073\n",
      "Total number different was 87, which is 87.0%\n",
      "Col 87 is statistically significantly differnet at alpha=0.1, pval=0.0008950254480608066\n",
      "Total number different was 88, which is 88.0%\n",
      "Col 88 is statistically significantly differnet at alpha=0.1, pval=0.0015428741313441197\n",
      "Total number different was 89, which is 89.0%\n",
      "Col 89 is statistically significantly differnet at alpha=0.1, pval=0.0009900946419699674\n",
      "Total number different was 90, which is 90.0%\n",
      "Col 90 is statistically significantly differnet at alpha=0.1, pval=0.000533498374175628\n",
      "Total number different was 91, which is 91.0%\n",
      "Col 91 is statistically significantly differnet at alpha=0.1, pval=0.0018832122556276935\n",
      "Total number different was 92, which is 92.0%\n",
      "Col 92 is statistically significantly differnet at alpha=0.1, pval=1.0026487147680827e-05\n",
      "Total number different was 93, which is 93.0%\n",
      "Col 93 is statistically significantly differnet at alpha=0.1, pval=7.16609134280532e-05\n",
      "Total number different was 94, which is 94.0%\n",
      "Col 94 is statistically significantly differnet at alpha=0.1, pval=7.947084552614114e-05\n",
      "Total number different was 95, which is 95.0%\n",
      "Col 95 is statistically significantly differnet at alpha=0.1, pval=0.001009389650351528\n",
      "Total number different was 96, which is 96.0%\n",
      "Col 96 is statistically significantly differnet at alpha=0.1, pval=7.54974667866424e-05\n",
      "Total number different was 97, which is 97.0%\n",
      "Col 97 is statistically significantly differnet at alpha=0.1, pval=0.0026440410049765307\n",
      "Total number different was 98, which is 98.0%\n",
      "Col 98 is statistically significantly differnet at alpha=0.1, pval=0.0015609205874364904\n",
      "Total number different was 99, which is 99.0%\n",
      "Col 99 is statistically significantly differnet at alpha=0.1, pval=0.00323566736090811\n",
      "Total number different was 100, which is 100.0%\n"
     ]
    }
   ],
   "source": [
    "##now lets change the second dataframe to a chi squared dataframe\n",
    "##notice that almost all of the columns show are statistically sound\n",
    "df2 = pd.DataFrame([np.random.chisquare(df=1,size=100) for x in range(100)])\n",
    "test_columns()"
   ]
  },
  {
   "cell_type": "markdown",
   "metadata": {},
   "source": [
    "## Other forms a structured data\n",
    "nodes and tree to show the relationships between different datasets"
   ]
  },
  {
   "cell_type": "code",
   "execution_count": null,
   "metadata": {},
   "outputs": [],
   "source": []
  },
  {
   "cell_type": "code",
   "execution_count": 10,
   "metadata": {},
   "outputs": [
    {
     "data": {
      "text/plain": [
       "False"
      ]
     },
     "execution_count": 10,
     "metadata": {},
     "output_type": "execute_result"
    }
   ],
   "source": [
    "import re\n",
    "s = 'ABCAC'\n",
    "re.search('A',s)\n",
    "bool(re.match('A',s))==True\n",
    "re.match('A',s)==True\n"
   ]
  },
  {
   "cell_type": "code",
   "execution_count": 32,
   "metadata": {},
   "outputs": [
    {
     "data": {
      "text/plain": [
       "d    4\n",
       "b    7\n",
       "a   -5\n",
       "c    3\n",
       "dtype: int64"
      ]
     },
     "execution_count": 32,
     "metadata": {},
     "output_type": "execute_result"
    }
   ],
   "source": [
    "df = pd.Series({'d':4,'b':7,'a':-5,'c':3})\n",
    "df"
   ]
  },
  {
   "cell_type": "code",
   "execution_count": 33,
   "metadata": {},
   "outputs": [
    {
     "data": {
      "text/plain": [
       "4"
      ]
     },
     "execution_count": 33,
     "metadata": {},
     "output_type": "execute_result"
    }
   ],
   "source": [
    "df['d']"
   ]
  },
  {
   "cell_type": "code",
   "execution_count": 34,
   "metadata": {},
   "outputs": [
    {
     "data": {
      "text/plain": [
       "'d'"
      ]
     },
     "execution_count": 34,
     "metadata": {},
     "output_type": "execute_result"
    }
   ],
   "source": [
    "df.index[0]"
   ]
  },
  {
   "cell_type": "code",
   "execution_count": 35,
   "metadata": {},
   "outputs": [
    {
     "data": {
      "text/plain": [
       "4"
      ]
     },
     "execution_count": 35,
     "metadata": {},
     "output_type": "execute_result"
    }
   ],
   "source": [
    "df[0]"
   ]
  },
  {
   "cell_type": "code",
   "execution_count": 36,
   "metadata": {},
   "outputs": [
    {
     "data": {
      "text/plain": [
       "4"
      ]
     },
     "execution_count": 36,
     "metadata": {},
     "output_type": "execute_result"
    }
   ],
   "source": [
    "df.iloc[0]"
   ]
  },
  {
   "cell_type": "code",
   "execution_count": 38,
   "metadata": {},
   "outputs": [],
   "source": [
    "s1 = pd.Series({'Mango':20,'Strawberry':15,'Blueberry':18,'Vanilla':31})\n",
    "s2 = pd.Series({'Strawberry':20,'Vanilla':30,'Banana':15,'Mango':20,'Plain':20})"
   ]
  },
  {
   "cell_type": "code",
   "execution_count": 39,
   "metadata": {},
   "outputs": [],
   "source": [
    "s3=s1.add(s2)"
   ]
  },
  {
   "cell_type": "code",
   "execution_count": 40,
   "metadata": {},
   "outputs": [
    {
     "data": {
      "text/plain": [
       "Banana         NaN\n",
       "Blueberry      NaN\n",
       "Mango         40.0\n",
       "Plain          NaN\n",
       "Strawberry    35.0\n",
       "Vanilla       61.0\n",
       "dtype: float64"
      ]
     },
     "execution_count": 40,
     "metadata": {},
     "output_type": "execute_result"
    }
   ],
   "source": [
    "s3"
   ]
  },
  {
   "cell_type": "code",
   "execution_count": 42,
   "metadata": {},
   "outputs": [
    {
     "data": {
      "text/plain": [
       "True"
      ]
     },
     "execution_count": 42,
     "metadata": {},
     "output_type": "execute_result"
    }
   ],
   "source": [
    "s3['Mango']==s1.add(s2,fill_value=0)['Mango']"
   ]
  },
  {
   "cell_type": "code",
   "execution_count": 43,
   "metadata": {},
   "outputs": [],
   "source": [
    "S = pd.Series(np.arange(5), index=['a', 'b', 'c', 'd', 'e'])"
   ]
  },
  {
   "cell_type": "code",
   "execution_count": 45,
   "metadata": {},
   "outputs": [
    {
     "data": {
      "text/plain": [
       "a    0\n",
       "b    1\n",
       "c    2\n",
       "d    3\n",
       "e    4\n",
       "dtype: int64"
      ]
     },
     "execution_count": 45,
     "metadata": {},
     "output_type": "execute_result"
    }
   ],
   "source": [
    "S"
   ]
  },
  {
   "cell_type": "code",
   "execution_count": 50,
   "metadata": {},
   "outputs": [
    {
     "data": {
      "text/plain": [
       "b    1\n",
       "c    2\n",
       "d    3\n",
       "dtype: int64"
      ]
     },
     "execution_count": 50,
     "metadata": {},
     "output_type": "execute_result"
    }
   ],
   "source": [
    "S[1:4]"
   ]
  },
  {
   "cell_type": "code",
   "execution_count": 52,
   "metadata": {},
   "outputs": [
    {
     "ename": "AttributeError",
     "evalue": "'int' object has no attribute 'max'",
     "output_type": "error",
     "traceback": [
      "\u001b[0;31m---------------------------------------------------------------------------\u001b[0m",
      "\u001b[0;31mAttributeError\u001b[0m                            Traceback (most recent call last)",
      "\u001b[0;32m<ipython-input-52-fa5cc6b841e7>\u001b[0m in \u001b[0;36m<module>\u001b[0;34m\u001b[0m\n\u001b[1;32m      1\u001b[0m \u001b[0;32mimport\u001b[0m \u001b[0mnumpy\u001b[0m \u001b[0;32mas\u001b[0m \u001b[0mnp\u001b[0m\u001b[0;34m\u001b[0m\u001b[0;34m\u001b[0m\u001b[0m\n\u001b[1;32m      2\u001b[0m \u001b[0mf\u001b[0m \u001b[0;34m=\u001b[0m \u001b[0;32mlambda\u001b[0m \u001b[0mx\u001b[0m\u001b[0;34m:\u001b[0m \u001b[0mx\u001b[0m\u001b[0;34m.\u001b[0m\u001b[0mmax\u001b[0m\u001b[0;34m(\u001b[0m\u001b[0;34m)\u001b[0m \u001b[0;34m+\u001b[0m \u001b[0mx\u001b[0m\u001b[0;34m.\u001b[0m\u001b[0mmin\u001b[0m\u001b[0;34m(\u001b[0m\u001b[0;34m)\u001b[0m\u001b[0;34m\u001b[0m\u001b[0;34m\u001b[0m\u001b[0m\n\u001b[0;32m----> 3\u001b[0;31m \u001b[0mdf_new\u001b[0m \u001b[0;34m=\u001b[0m \u001b[0mdf\u001b[0m\u001b[0;34m.\u001b[0m\u001b[0mapply\u001b[0m\u001b[0;34m(\u001b[0m\u001b[0mf\u001b[0m\u001b[0;34m)\u001b[0m\u001b[0;34m\u001b[0m\u001b[0;34m\u001b[0m\u001b[0m\n\u001b[0m",
      "\u001b[0;32m/opt/conda/lib/python3.7/site-packages/pandas/core/series.py\u001b[0m in \u001b[0;36mapply\u001b[0;34m(self, func, convert_dtype, args, **kwds)\u001b[0m\n\u001b[1;32m   4036\u001b[0m             \u001b[0;32melse\u001b[0m\u001b[0;34m:\u001b[0m\u001b[0;34m\u001b[0m\u001b[0;34m\u001b[0m\u001b[0m\n\u001b[1;32m   4037\u001b[0m                 \u001b[0mvalues\u001b[0m \u001b[0;34m=\u001b[0m \u001b[0mself\u001b[0m\u001b[0;34m.\u001b[0m\u001b[0mastype\u001b[0m\u001b[0;34m(\u001b[0m\u001b[0mobject\u001b[0m\u001b[0;34m)\u001b[0m\u001b[0;34m.\u001b[0m\u001b[0mvalues\u001b[0m\u001b[0;34m\u001b[0m\u001b[0;34m\u001b[0m\u001b[0m\n\u001b[0;32m-> 4038\u001b[0;31m                 \u001b[0mmapped\u001b[0m \u001b[0;34m=\u001b[0m \u001b[0mlib\u001b[0m\u001b[0;34m.\u001b[0m\u001b[0mmap_infer\u001b[0m\u001b[0;34m(\u001b[0m\u001b[0mvalues\u001b[0m\u001b[0;34m,\u001b[0m \u001b[0mf\u001b[0m\u001b[0;34m,\u001b[0m \u001b[0mconvert\u001b[0m\u001b[0;34m=\u001b[0m\u001b[0mconvert_dtype\u001b[0m\u001b[0;34m)\u001b[0m\u001b[0;34m\u001b[0m\u001b[0;34m\u001b[0m\u001b[0m\n\u001b[0m\u001b[1;32m   4039\u001b[0m \u001b[0;34m\u001b[0m\u001b[0m\n\u001b[1;32m   4040\u001b[0m         \u001b[0;32mif\u001b[0m \u001b[0mlen\u001b[0m\u001b[0;34m(\u001b[0m\u001b[0mmapped\u001b[0m\u001b[0;34m)\u001b[0m \u001b[0;32mand\u001b[0m \u001b[0misinstance\u001b[0m\u001b[0;34m(\u001b[0m\u001b[0mmapped\u001b[0m\u001b[0;34m[\u001b[0m\u001b[0;36m0\u001b[0m\u001b[0;34m]\u001b[0m\u001b[0;34m,\u001b[0m \u001b[0mSeries\u001b[0m\u001b[0;34m)\u001b[0m\u001b[0;34m:\u001b[0m\u001b[0;34m\u001b[0m\u001b[0;34m\u001b[0m\u001b[0m\n",
      "\u001b[0;32mpandas/_libs/lib.pyx\u001b[0m in \u001b[0;36mpandas._libs.lib.map_infer\u001b[0;34m()\u001b[0m\n",
      "\u001b[0;32m<ipython-input-52-fa5cc6b841e7>\u001b[0m in \u001b[0;36m<lambda>\u001b[0;34m(x)\u001b[0m\n\u001b[1;32m      1\u001b[0m \u001b[0;32mimport\u001b[0m \u001b[0mnumpy\u001b[0m \u001b[0;32mas\u001b[0m \u001b[0mnp\u001b[0m\u001b[0;34m\u001b[0m\u001b[0;34m\u001b[0m\u001b[0m\n\u001b[0;32m----> 2\u001b[0;31m \u001b[0mf\u001b[0m \u001b[0;34m=\u001b[0m \u001b[0;32mlambda\u001b[0m \u001b[0mx\u001b[0m\u001b[0;34m:\u001b[0m \u001b[0mx\u001b[0m\u001b[0;34m.\u001b[0m\u001b[0mmax\u001b[0m\u001b[0;34m(\u001b[0m\u001b[0;34m)\u001b[0m \u001b[0;34m+\u001b[0m \u001b[0mx\u001b[0m\u001b[0;34m.\u001b[0m\u001b[0mmin\u001b[0m\u001b[0;34m(\u001b[0m\u001b[0;34m)\u001b[0m\u001b[0;34m\u001b[0m\u001b[0;34m\u001b[0m\u001b[0m\n\u001b[0m\u001b[1;32m      3\u001b[0m \u001b[0mdf_new\u001b[0m \u001b[0;34m=\u001b[0m \u001b[0mdf\u001b[0m\u001b[0;34m.\u001b[0m\u001b[0mapply\u001b[0m\u001b[0;34m(\u001b[0m\u001b[0mf\u001b[0m\u001b[0;34m)\u001b[0m\u001b[0;34m\u001b[0m\u001b[0;34m\u001b[0m\u001b[0m\n",
      "\u001b[0;31mAttributeError\u001b[0m: 'int' object has no attribute 'max'"
     ]
    }
   ],
   "source": [
    "import numpy as np\n",
    "f = lambda x: x.max() + x.min()\n",
    "df_new = df.apply(f)"
   ]
  },
  {
   "cell_type": "code",
   "execution_count": null,
   "metadata": {},
   "outputs": [],
   "source": []
  }
 ],
 "metadata": {
  "kernelspec": {
   "display_name": "Python 3 (ipykernel)",
   "language": "python",
   "name": "python3"
  },
  "language_info": {
   "codemirror_mode": {
    "name": "ipython",
    "version": 3
   },
   "file_extension": ".py",
   "mimetype": "text/x-python",
   "name": "python",
   "nbconvert_exporter": "python",
   "pygments_lexer": "ipython3",
   "version": "3.9.12"
  }
 },
 "nbformat": 4,
 "nbformat_minor": 4
}
